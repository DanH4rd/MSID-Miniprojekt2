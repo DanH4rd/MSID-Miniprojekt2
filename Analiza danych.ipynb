{
 "cells": [
  {
   "cell_type": "code",
   "execution_count": 2,
   "id": "55a2179a",
   "metadata": {},
   "outputs": [],
   "source": [
    "import pandas as pd\n",
    "import requests\n",
    "import os\n",
    "import numpy as np\n",
    "import pandas as pd\n",
    "import seaborn as sns\n",
    "import matplotlib\n",
    "\n",
    "matplotlib.rcParams['figure.figsize'] = [10, 10]"
   ]
  },
  {
   "cell_type": "code",
   "execution_count": 3,
   "id": "22edfc3c",
   "metadata": {},
   "outputs": [],
   "source": [
    "#dataFr = pd.read_csv(\"./clean_data.csv\")\n",
    "#dataFr = pd.read_csv(\"./clean_data_without_nans.csv\")\n",
    "dataFr = pd.read_csv(\"./clean_data_without_nans_and_zeroes.csv\")"
   ]
  },
  {
   "cell_type": "code",
   "execution_count": 4,
   "id": "68944e7e",
   "metadata": {},
   "outputs": [
    {
     "data": {
      "text/html": [
       "<div>\n",
       "<style scoped>\n",
       "    .dataframe tbody tr th:only-of-type {\n",
       "        vertical-align: middle;\n",
       "    }\n",
       "\n",
       "    .dataframe tbody tr th {\n",
       "        vertical-align: top;\n",
       "    }\n",
       "\n",
       "    .dataframe thead th {\n",
       "        text-align: right;\n",
       "    }\n",
       "</style>\n",
       "<table border=\"1\" class=\"dataframe\">\n",
       "  <thead>\n",
       "    <tr style=\"text-align: right;\">\n",
       "      <th></th>\n",
       "      <th>Unnamed: 0</th>\n",
       "      <th>Year Property Built</th>\n",
       "      <th>Number of Bathrooms</th>\n",
       "      <th>Number of Rooms</th>\n",
       "      <th>Number of Stories</th>\n",
       "      <th>Number of Units</th>\n",
       "      <th>Property Area</th>\n",
       "      <th>Lot Area</th>\n",
       "      <th>Assessor Neighborhood</th>\n",
       "      <th>Assessed Value</th>\n",
       "    </tr>\n",
       "  </thead>\n",
       "  <tbody>\n",
       "    <tr>\n",
       "      <th>0</th>\n",
       "      <td>138</td>\n",
       "      <td>1995.0</td>\n",
       "      <td>4.0</td>\n",
       "      <td>12.0</td>\n",
       "      <td>2.0</td>\n",
       "      <td>2.0</td>\n",
       "      <td>2420.0</td>\n",
       "      <td>2500.0</td>\n",
       "      <td>Hunters Point</td>\n",
       "      <td>335135</td>\n",
       "    </tr>\n",
       "    <tr>\n",
       "      <th>1</th>\n",
       "      <td>167</td>\n",
       "      <td>1942.0</td>\n",
       "      <td>0.0</td>\n",
       "      <td>1.0</td>\n",
       "      <td>1.0</td>\n",
       "      <td>0.0</td>\n",
       "      <td>0.0</td>\n",
       "      <td>396.0</td>\n",
       "      <td>Lower Pacific Heights</td>\n",
       "      <td>117011</td>\n",
       "    </tr>\n",
       "    <tr>\n",
       "      <th>2</th>\n",
       "      <td>175</td>\n",
       "      <td>2016.0</td>\n",
       "      <td>2.0</td>\n",
       "      <td>6.0</td>\n",
       "      <td>1.0</td>\n",
       "      <td>0.0</td>\n",
       "      <td>957.0</td>\n",
       "      <td>0.0</td>\n",
       "      <td>Hunters Point</td>\n",
       "      <td>780810</td>\n",
       "    </tr>\n",
       "    <tr>\n",
       "      <th>3</th>\n",
       "      <td>176</td>\n",
       "      <td>1909.0</td>\n",
       "      <td>1.0</td>\n",
       "      <td>7.0</td>\n",
       "      <td>1.0</td>\n",
       "      <td>1.0</td>\n",
       "      <td>1500.0</td>\n",
       "      <td>5500.0</td>\n",
       "      <td>Excelsior</td>\n",
       "      <td>596720</td>\n",
       "    </tr>\n",
       "    <tr>\n",
       "      <th>4</th>\n",
       "      <td>179</td>\n",
       "      <td>1929.0</td>\n",
       "      <td>3.0</td>\n",
       "      <td>8.0</td>\n",
       "      <td>3.0</td>\n",
       "      <td>0.0</td>\n",
       "      <td>3045.0</td>\n",
       "      <td>0.0</td>\n",
       "      <td>Russian Hill</td>\n",
       "      <td>1301167</td>\n",
       "    </tr>\n",
       "    <tr>\n",
       "      <th>...</th>\n",
       "      <td>...</td>\n",
       "      <td>...</td>\n",
       "      <td>...</td>\n",
       "      <td>...</td>\n",
       "      <td>...</td>\n",
       "      <td>...</td>\n",
       "      <td>...</td>\n",
       "      <td>...</td>\n",
       "      <td>...</td>\n",
       "      <td>...</td>\n",
       "    </tr>\n",
       "    <tr>\n",
       "      <th>2410840</th>\n",
       "      <td>2666112</td>\n",
       "      <td>1946.0</td>\n",
       "      <td>2.0</td>\n",
       "      <td>6.0</td>\n",
       "      <td>1.0</td>\n",
       "      <td>1.0</td>\n",
       "      <td>1535.0</td>\n",
       "      <td>2495.0</td>\n",
       "      <td>Merced Heights</td>\n",
       "      <td>321910</td>\n",
       "    </tr>\n",
       "    <tr>\n",
       "      <th>2410841</th>\n",
       "      <td>2666113</td>\n",
       "      <td>1937.0</td>\n",
       "      <td>3.0</td>\n",
       "      <td>9.0</td>\n",
       "      <td>1.0</td>\n",
       "      <td>1.0</td>\n",
       "      <td>1837.0</td>\n",
       "      <td>2500.0</td>\n",
       "      <td>Ingleside Heights</td>\n",
       "      <td>411518</td>\n",
       "    </tr>\n",
       "    <tr>\n",
       "      <th>2410842</th>\n",
       "      <td>2666114</td>\n",
       "      <td>1975.0</td>\n",
       "      <td>2.0</td>\n",
       "      <td>7.0</td>\n",
       "      <td>1.0</td>\n",
       "      <td>1.0</td>\n",
       "      <td>1904.0</td>\n",
       "      <td>0.0</td>\n",
       "      <td>Lake Shore</td>\n",
       "      <td>945064</td>\n",
       "    </tr>\n",
       "    <tr>\n",
       "      <th>2410843</th>\n",
       "      <td>2666115</td>\n",
       "      <td>1939.0</td>\n",
       "      <td>1.0</td>\n",
       "      <td>7.0</td>\n",
       "      <td>1.0</td>\n",
       "      <td>1.0</td>\n",
       "      <td>1897.0</td>\n",
       "      <td>4360.0</td>\n",
       "      <td>Lakeside</td>\n",
       "      <td>1297121</td>\n",
       "    </tr>\n",
       "    <tr>\n",
       "      <th>2410844</th>\n",
       "      <td>2666116</td>\n",
       "      <td>1978.0</td>\n",
       "      <td>3.0</td>\n",
       "      <td>7.0</td>\n",
       "      <td>1.0</td>\n",
       "      <td>1.0</td>\n",
       "      <td>2145.0</td>\n",
       "      <td>2500.0</td>\n",
       "      <td>Ingleside Heights</td>\n",
       "      <td>267086</td>\n",
       "    </tr>\n",
       "  </tbody>\n",
       "</table>\n",
       "<p>2410845 rows × 10 columns</p>\n",
       "</div>"
      ],
      "text/plain": [
       "         Unnamed: 0  Year Property Built  Number of Bathrooms  \\\n",
       "0               138               1995.0                  4.0   \n",
       "1               167               1942.0                  0.0   \n",
       "2               175               2016.0                  2.0   \n",
       "3               176               1909.0                  1.0   \n",
       "4               179               1929.0                  3.0   \n",
       "...             ...                  ...                  ...   \n",
       "2410840     2666112               1946.0                  2.0   \n",
       "2410841     2666113               1937.0                  3.0   \n",
       "2410842     2666114               1975.0                  2.0   \n",
       "2410843     2666115               1939.0                  1.0   \n",
       "2410844     2666116               1978.0                  3.0   \n",
       "\n",
       "         Number of Rooms  Number of Stories  Number of Units  Property Area  \\\n",
       "0                   12.0                2.0              2.0         2420.0   \n",
       "1                    1.0                1.0              0.0            0.0   \n",
       "2                    6.0                1.0              0.0          957.0   \n",
       "3                    7.0                1.0              1.0         1500.0   \n",
       "4                    8.0                3.0              0.0         3045.0   \n",
       "...                  ...                ...              ...            ...   \n",
       "2410840              6.0                1.0              1.0         1535.0   \n",
       "2410841              9.0                1.0              1.0         1837.0   \n",
       "2410842              7.0                1.0              1.0         1904.0   \n",
       "2410843              7.0                1.0              1.0         1897.0   \n",
       "2410844              7.0                1.0              1.0         2145.0   \n",
       "\n",
       "         Lot Area  Assessor Neighborhood  Assessed Value  \n",
       "0          2500.0          Hunters Point          335135  \n",
       "1           396.0  Lower Pacific Heights          117011  \n",
       "2             0.0          Hunters Point          780810  \n",
       "3          5500.0              Excelsior          596720  \n",
       "4             0.0           Russian Hill         1301167  \n",
       "...           ...                    ...             ...  \n",
       "2410840    2495.0         Merced Heights          321910  \n",
       "2410841    2500.0      Ingleside Heights          411518  \n",
       "2410842       0.0             Lake Shore          945064  \n",
       "2410843    4360.0               Lakeside         1297121  \n",
       "2410844    2500.0      Ingleside Heights          267086  \n",
       "\n",
       "[2410845 rows x 10 columns]"
      ]
     },
     "execution_count": 4,
     "metadata": {},
     "output_type": "execute_result"
    }
   ],
   "source": [
    "dataFr"
   ]
  },
  {
   "cell_type": "code",
   "execution_count": 5,
   "id": "4921ebd4",
   "metadata": {},
   "outputs": [
    {
     "data": {
      "text/plain": [
       "<AxesSubplot:>"
      ]
     },
     "execution_count": 5,
     "metadata": {},
     "output_type": "execute_result"
    },
    {
     "data": {
      "image/png": "[encoded data removed]",
      "text/plain": [
       "<Figure size 720x720 with 2 Axes>"
      ]
     },
     "metadata": {
      "needs_background": "light"
     },
     "output_type": "display_data"
    }
   ],
   "source": [
    "corDataFr = dataFr.corr()\n",
    "corDataFrSortId = corDataFr.sort_values('Assessed Value', ascending=False).index\n",
    "corDataFrSorted = corDataFr.loc[:, corDataFrSortId]\n",
    "sns.heatmap(corDataFrSorted)"
   ]
  },
  {
   "cell_type": "code",
   "execution_count": 6,
   "id": "f6c38c7a",
   "metadata": {},
   "outputs": [],
   "source": [
    "import matplotlib\n",
    "from sklearn.model_selection import train_test_split\n",
    "from scipy.optimize import curve_fit\n",
    "from sklearn.metrics import mean_squared_error\n",
    "\n",
    "import numpy as np\n",
    "from sklearn.metrics import accuracy_score, precision_score, recall_score, f1_score, matthews_corrcoef\n",
    "from sklearn.preprocessing import MinMaxScaler\n",
    "import matplotlib.pyplot as plt\n",
    "\n",
    "matplotlib.rcParams['figure.figsize'] = [10, 10]\n",
    "\n",
    "PropertyArea = 0\n",
    "NumberOfRooms = 1\n",
    "NumberOfBath = 2\n",
    "NumberOfUnit = 3\n",
    "NumberOfStories = 4\n",
    "\n",
    "Weights = [1,1,1,1,1]\n",
    "\n",
    "picked_column_names = [\"Property Area\", \"Number of Rooms\", \"Number of Bathrooms\",\n",
    "                        \"Number of Units\", \"Number of Stories\"]\n",
    "\n",
    "def func(x, a0, a1, a2, a3, a4, a):\n",
    "    return Weights[PropertyArea]*x[PropertyArea]*a0 + Weights[NumberOfRooms]*x[NumberOfRooms]*a1 \n",
    "    + Weights[NumberOfBath]*x[NumberOfBath]*a2 + Weights[NumberOfUnit]*x[NumberOfUnit]*a3 + Weights[NumberOfStories]*x[NumberOfStories]*a4 + a\n",
    "\n",
    "class CustomModelWrapper:\n",
    "    def __init__(self, pred_fun, params):\n",
    "        self.pred_fun = pred_fun\n",
    "        self.params = params\n",
    "    \n",
    "    def predict(self, x):\n",
    "        return self.pred_fun(x.ravel(), *self.params)\n"
   ]
  },
  {
   "cell_type": "code",
   "execution_count": 14,
   "id": "f1f298b3",
   "metadata": {},
   "outputs": [
    {
     "name": "stdout",
     "output_type": "stream",
     "text": [
      "Train data in: all\n",
      "[[ 2.27125568 -0.46724713 -0.47369067 -0.47626808 -0.47626808]\n",
      " [ 2.33440233 -0.46853584 -0.47369067 -0.47626808 -0.47497937]\n",
      " [ 1.37302676 -0.47111325 -0.47626808 -0.47626808 -0.47626808]\n",
      " ...\n",
      " [ 2.1501172  -0.46853584 -0.47369067 -0.47626808 -0.47497937]\n",
      " [ 1.72999865 -0.47111325 -0.47497937 -0.47626808 -0.47626808]\n",
      " [ 2.06763994 -0.46853584 -0.47369067 -0.47626808 -0.47626808]]\n",
      "[763597 235526 449770 ... 105780 450682 229764]\n",
      "[ 7.71097224e+04 -7.65199929e+05  1.00000000e+00  1.00000000e+00\n",
      "  1.00000000e+00  1.00000000e+00]\n"
     ]
    },
    {
     "name": "stderr",
     "output_type": "stream",
     "text": [
      "C:\\Users\\Gordon Freeman\\AppData\\Local\\Programs\\Python\\Python39\\lib\\site-packages\\scipy\\optimize\\_minpack_py.py:833: OptimizeWarning: Covariance of the parameters could not be estimated\n",
      "  warnings.warn('Covariance of the parameters could not be estimated',\n"
     ]
    },
    {
     "data": {
      "image/png": "[encoded data removed]",
      "text/plain": [
       "<Figure size 720x720 with 1 Axes>"
      ]
     },
     "metadata": {
      "needs_background": "light"
     },
     "output_type": "display_data"
    }
   ],
   "source": [
    "dataFr = pd.read_csv(\"./clean_data_without_nans.csv\")\n",
    "\n",
    "dataFr = dataFr[dataFr['Assessor Neighborhood'] == 'Pine Lake Park']\n",
    "    \n",
    "    \n",
    "print('Train data in: all')\n",
    "X = dataFr[picked_column_names].values\n",
    "Y = dataFr['Assessed Value'].values\n",
    "\n",
    "X =(X-X.mean())/X.std()\n",
    "    \n",
    "X_train, X_test, Y_train, Y_test = train_test_split(X, Y, test_size=0.1, random_state=42)    \n",
    "\n",
    "print(X_train)\n",
    "print(Y_train)\n",
    "\n",
    "params, _ = curve_fit(func, xdata=X_train.ravel(), ydata=Y_train) \n",
    "print(params)   \n",
    "    \n",
    "model_custom = CustomModelWrapper(func, params)\n",
    "Y_pred = list(map(model_custom.predict, X_test))\n",
    "\n",
    "svr_mse = mean_squared_error(Y_test, Y_pred, squared=False)\n",
    "\n",
    "plt.ylabel(\"Assessed value\")\n",
    "plt.errorbar(1, np.average(Y), yerr=svr_mse, fmt='.k');"
   ]
  },
  {
   "cell_type": "code",
   "execution_count": 15,
   "id": "952e1d7f",
   "metadata": {},
   "outputs": [
    {
     "data": {
      "text/plain": [
       "[<matplotlib.lines.Line2D at 0x1c90398ee50>]"
      ]
     },
     "execution_count": 15,
     "metadata": {},
     "output_type": "execute_result"
    },
    {
     "data": {
      "image/png": "[encoded data removed]",
      "text/plain": [
       "<Figure size 720x720 with 1 Axes>"
      ]
     },
     "metadata": {
      "needs_background": "light"
     },
     "output_type": "display_data"
    }
   ],
   "source": [
    "plt.xlabel(\"Property area\")\n",
    "plt.ylabel(\"Assessed value\")\n",
    "plt.scatter([i[0] for i in X], Y);\n",
    "plt.plot([i[0] for i in X], [func(x.ravel(), *params) for x in X], '-r', label='model')"
   ]
  },
  {
   "cell_type": "code",
   "execution_count": 9,
   "id": "9d0c61ea",
   "metadata": {},
   "outputs": [
    {
     "name": "stdout",
     "output_type": "stream",
     "text": [
      "[[ 0.19115372 -0.06595094 -0.06680511 -0.06701865 -0.06701865]\n",
      " [-0.06723219 -0.06712542 -0.06723219 -0.06723219 -0.06712542]\n",
      " [ 0.03494769 -0.06659156 -0.06701865 -0.06723219 -0.06712542]\n",
      " [ 0.09292436 -0.06648479 -0.06712542 -0.06712542 -0.06712542]\n",
      " [ 0.25788561 -0.06637802 -0.06691188 -0.06723219 -0.06691188]]\n",
      "[5236975.523403703, -1400122.344670581, 1224208.6939023077, 2714208.6125451033, 6954674.908747837]\n"
     ]
    }
   ],
   "source": [
    "print(X[0:5])\n",
    "print([func(x.ravel(), *params) for x in X[0:5]])"
   ]
  },
  {
   "cell_type": "code",
   "execution_count": null,
   "id": "4326f732",
   "metadata": {},
   "outputs": [],
   "source": []
  },
  {
   "cell_type": "code",
   "execution_count": null,
   "id": "dbeb096a",
   "metadata": {},
   "outputs": [],
   "source": []
  },
  {
   "cell_type": "code",
   "execution_count": null,
   "id": "c3144f9f",
   "metadata": {},
   "outputs": [],
   "source": []
  },
  {
   "cell_type": "code",
   "execution_count": null,
   "id": "716498e8",
   "metadata": {},
   "outputs": [],
   "source": []
  }
 ],
 "metadata": {
  "kernelspec": {
   "display_name": "Python 3 (ipykernel)",
   "language": "python",
   "name": "python3"
  },
  "language_info": {
   "codemirror_mode": {
    "name": "ipython",
    "version": 3
   },
   "file_extension": ".py",
   "mimetype": "text/x-python",
   "name": "python",
   "nbconvert_exporter": "python",
   "pygments_lexer": "ipython3",
   "version": "3.9.4"
  }
 },
 "nbformat": 4,
 "nbformat_minor": 5
}
